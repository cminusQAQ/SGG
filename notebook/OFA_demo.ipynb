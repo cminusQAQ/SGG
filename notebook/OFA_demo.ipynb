{
 "cells": [
  {
   "cell_type": "code",
   "execution_count": 2,
   "id": "18292b85-fd23-438f-aba3-f206e4421542",
   "metadata": {},
   "outputs": [],
   "source": [
    "import sys"
   ]
  },
  {
   "cell_type": "code",
   "execution_count": 3,
   "id": "c98dba8f-6c67-4787-bb17-79c955386152",
   "metadata": {},
   "outputs": [],
   "source": [
    "sys.path.append('/data/private/yutianyu/OFA/')"
   ]
  },
  {
   "cell_type": "code",
   "execution_count": 4,
   "id": "c3f5825b-e533-453d-bf9f-95a20507cb7d",
   "metadata": {},
   "outputs": [],
   "source": [
    "import torch\n",
    "import numpy as np\n",
    "from fairseq import checkpoint_utils, distributed_utils, options, tasks, utils\n",
    "from fairseq.dataclass.utils import convert_namespace_to_omegaconf\n",
    "from tasks.mm_tasks.refcoco import RefcocoTask\n",
    "\n",
    "from models.ofa import OFAModel\n",
    "from PIL import Image"
   ]
  },
  {
   "cell_type": "code",
   "execution_count": null,
   "id": "b25e5f5d-7a17-46fa-ae2d-f7a2d0248d9c",
   "metadata": {},
   "outputs": [],
   "source": []
  }
 ],
 "metadata": {
  "kernelspec": {
   "display_name": "Python 3 (ipykernel)",
   "language": "python",
   "name": "python3"
  },
  "language_info": {
   "codemirror_mode": {
    "name": "ipython",
    "version": 3
   },
   "file_extension": ".py",
   "mimetype": "text/x-python",
   "name": "python",
   "nbconvert_exporter": "python",
   "pygments_lexer": "ipython3",
   "version": "3.7.4"
  }
 },
 "nbformat": 4,
 "nbformat_minor": 5
}
